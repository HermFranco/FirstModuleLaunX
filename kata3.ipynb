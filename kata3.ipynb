{
 "cells": [
  {
   "cell_type": "markdown",
   "metadata": {},
   "source": [
    "# Ejercicio 1"
   ]
  },
  {
   "cell_type": "code",
   "execution_count": 28,
   "metadata": {},
   "outputs": [
    {
     "name": "stdout",
     "output_type": "stream",
     "text": [
      "Advertencia la velocidad del asteroide es de49 km/s.\n"
     ]
    }
   ],
   "source": [
    "vel_asteroide = 49 \n",
    "\n",
    "if 25 < vel_asteroide :\n",
    "    print (\"Advertencia la velocidad del asteroide es de\" + str(vel_asteroide) + \" km/s.\")\n",
    "\n",
    "else:\n",
    "    print (\"Paso un asteroide con velocidad de \" + str(vel_asteroide) + \" km/s.\" )"
   ]
  },
  {
   "cell_type": "markdown",
   "metadata": {},
   "source": [
    "# Ejercicio 2"
   ]
  },
  {
   "cell_type": "code",
   "execution_count": 36,
   "metadata": {},
   "outputs": [
    {
     "name": "stdout",
     "output_type": "stream",
     "text": [
      "¡Hay uno que se dirige a la Tierra a una velocidad de 19 km/s\n",
      "¡Hay uno que se dirige a la Tierra a una velocidad de 35 km/s, hay que buscarlo en el cielo.\n"
     ]
    }
   ],
   "source": [
    "vel_asteroide = 19\n",
    "\n",
    "if 20 <= vel_asteroide  :\n",
    "    print (\"¡Hay uno que se dirige a la Tierra a una velocidad de \" + str(vel_asteroide) + \" km/s, hay que buscarlo en el cielo.\")\n",
    "else:\n",
    "    print (\"¡Hay uno que se dirige a la Tierra a una velocidad de \" + str(vel_asteroide) + \" km/s\")\n",
    "  \n",
    "vel_asteroide = 35\n",
    "\n",
    "if 20 <= vel_asteroide  :\n",
    "    print (\"¡Hay uno que se dirige a la Tierra a una velocidad de \" + str(vel_asteroide) + \" km/s, hay que buscarlo en el cielo.\")\n",
    "else:\n",
    "    print (\"¡Hay uno que se dirige a la Tierra a una velocidad de \" + str(vel_asteroide) + \" km/s\")\n",
    "  "
   ]
  },
  {
   "cell_type": "markdown",
   "metadata": {},
   "source": [
    "# Ejercicio 3"
   ]
  },
  {
   "cell_type": "code",
   "execution_count": 37,
   "metadata": {},
   "outputs": [
    {
     "name": "stdout",
     "output_type": "stream",
     "text": [
      "¡Hay asteroide que se nota en cielo!\n"
     ]
    }
   ],
   "source": [
    "vel_asteroide = 25\n",
    "\n",
    "tamano_asteroide = 40\n",
    "\n",
    "if vel_asteroide > 25 and tamano_asteroide > 25:\n",
    "    print ( \"¡Alerta, Un asteroide de \" + str(tamano_asteroide) + \"m a una velocidad de \" + str(vel_asteroide) + \" km/s y viene hacia la Tierra!\")\n",
    "elif vel_asteroide >= 20:\n",
    "    print(\"¡Hay asteroide que se nota en cielo!\")\n",
    "elif tamano_asteroide < 25:\n",
    "    print(\"Pasó un asteroide que no se llega a notar\")\n",
    "else:\n",
    "    print(\"Sin novedad\")"
   ]
  }
 ],
 "metadata": {
  "interpreter": {
   "hash": "aee8b7b246df8f9039afb4144a1f6fd8d2ca17a180786b69acc140d282b71a49"
  },
  "kernelspec": {
   "display_name": "Python 3.9.10 64-bit",
   "language": "python",
   "name": "python3"
  },
  "language_info": {
   "codemirror_mode": {
    "name": "ipython",
    "version": 3
   },
   "file_extension": ".py",
   "mimetype": "text/x-python",
   "name": "python",
   "nbconvert_exporter": "python",
   "pygments_lexer": "ipython3",
   "version": "3.9.10"
  },
  "orig_nbformat": 4
 },
 "nbformat": 4,
 "nbformat_minor": 2
}
